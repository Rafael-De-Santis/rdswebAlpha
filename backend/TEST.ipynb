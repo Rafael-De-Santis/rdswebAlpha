{
 "cells": [
  {
   "cell_type": "code",
   "execution_count": 6,
   "metadata": {},
   "outputs": [
    {
     "name": "stdout",
     "output_type": "stream",
     "text": [
      "SECRET_KEY: 777999570a1f8951b5bc13391ef4e8d525356aab9f5d81fe\n",
      "JWT_SECRET_KEY: d264b7193a0006f815c4b8982a46967d558b683c5e1aec60\n"
     ]
    }
   ],
   "source": [
    "import os\n",
    "import binascii\n",
    "\n",
    "# Generate a random secret key\n",
    "secret_key = binascii.hexlify(os.urandom(24)).decode()\n",
    "jwt_secret_key = binascii.hexlify(os.urandom(24)).decode()\n",
    "\n",
    "print(\"SECRET_KEY:\", secret_key)\n",
    "print(\"JWT_SECRET_KEY:\", jwt_secret_key)\n"
   ]
  },
  {
   "cell_type": "code",
   "execution_count": null,
   "metadata": {},
   "outputs": [],
   "source": []
  },
  {
   "cell_type": "code",
   "execution_count": null,
   "metadata": {},
   "outputs": [],
   "source": []
  }
 ],
 "metadata": {
  "kernelspec": {
   "display_name": "venv",
   "language": "python",
   "name": "python3"
  },
  "language_info": {
   "codemirror_mode": {
    "name": "ipython",
    "version": 3
   },
   "file_extension": ".py",
   "mimetype": "text/x-python",
   "name": "python",
   "nbconvert_exporter": "python",
   "pygments_lexer": "ipython3",
   "version": "3.12.6"
  }
 },
 "nbformat": 4,
 "nbformat_minor": 2
}
